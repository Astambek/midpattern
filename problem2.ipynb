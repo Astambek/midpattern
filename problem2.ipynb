{
 "cells": [
  {
   "cell_type": "code",
   "execution_count": null,
   "metadata": {
    "collapsed": true
   },
   "outputs": [],
   "source": [
    "    from pyDatalog import pyDatalog as pyd\n",
    "\n",
    "    def q(b1 ,b2 ,b3):\n",
    "    return max(0.6*b1, 0.4*b2, 0.7*b3)\n",
    "\n",
    "    w = [[0.5,0.2,0.4], [0.5,0.7,0.1],[0.2,0.5,0.5]]\n",
    "    ans = 0\n",
    "\n",
    "    for e in w:\n",
    "    ans = max(ans, q(e[0], e[1], e[2]))\n",
    "\n",
    "    print(\"max is:\", ans)\n",
    "\n"
   ]
  }
 ],
 "metadata": {
  "kernelspec": {
   "display_name": "Python 3",
   "language": "python",
   "name": "python3"
  },
  "language_info": {
   "codemirror_mode": {
    "name": "ipython",
    "version": 3
   },
   "file_extension": ".py",
   "mimetype": "text/x-python",
   "name": "python",
   "nbconvert_exporter": "python",
   "pygments_lexer": "ipython3",
   "version": "3.6.2"
  }
 },
 "nbformat": 4,
 "nbformat_minor": 2
}
