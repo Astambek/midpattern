{
 "cells": [
  {
   "cell_type": "code",
   "execution_count": 1,
   "metadata": {},
   "outputs": [
    {
     "ename": "IndentationError",
     "evalue": "expected an indented block (<ipython-input-1-cba5bb0303b0>, line 27)",
     "output_type": "error",
     "traceback": [
      "\u001b[1;36m  File \u001b[1;32m\"<ipython-input-1-cba5bb0303b0>\"\u001b[1;36m, line \u001b[1;32m27\u001b[0m\n\u001b[1;33m    print('ok')\u001b[0m\n\u001b[1;37m        ^\u001b[0m\n\u001b[1;31mIndentationError\u001b[0m\u001b[1;31m:\u001b[0m expected an indented block\n"
     ]
    }
   ],
   "source": [
    "from pyDatalog import pyDatalog\n",
    "from pyDatalog import pyEngine\n",
    "\n",
    "pyDatalog.create_terms('Q,W,E,R,T, married,son,grandfather')\n",
    "\n",
    "+married(1, 2)\n",
    "+married(3, 4)\n",
    "\n",
    "married(Q,W) <= married(W,Q)\n",
    "\n",
    "+son(1, 5)\n",
    "+son(2, 5)\n",
    "+son(3, 6)\n",
    "+son(4, 6)\n",
    "+son(3, 1)\n",
    "+son(2, 4)\n",
    "\n",
    "son(Q,W) <= son(Q, W)\n",
    "\n",
    "print(married(Q, W))\n",
    "\n",
    "son(E, W) <= son(Q, W) & married(Q, E)\n",
    "\n",
    "grandfather(Q, W) <= son(E, W) & son(Q, E)\n",
    "\n",
    "if(grandfather(1, 1)):\n",
    "print('ok')"
   ]
  },
  {
   "cell_type": "code",
   "execution_count": null,
   "metadata": {
    "collapsed": true
   },
   "outputs": [],
   "source": []
  }
 ],
 "metadata": {
  "kernelspec": {
   "display_name": "Python 3",
   "language": "python",
   "name": "python3"
  },
  "language_info": {
   "codemirror_mode": {
    "name": "ipython",
    "version": 3
   },
   "file_extension": ".py",
   "mimetype": "text/x-python",
   "name": "python",
   "nbconvert_exporter": "python",
   "pygments_lexer": "ipython3",
   "version": "3.6.2"
  }
 },
 "nbformat": 4,
 "nbformat_minor": 2
}
