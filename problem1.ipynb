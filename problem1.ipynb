{
 "cells": [
  {
   "cell_type": "code",
   "execution_count": null,
   "metadata": {
    "collapsed": true
   },
   "outputs": [],
   "source": [
    "from pyDatalog import pyDatalog as pyd\n",
    "\n",
    "values = [0, 1]\n",
    "\n",
    "\n",
    "\n",
    "def q(a, b):\n",
    "    return( (not(a or not(a)) or b) and (not(b) or (a or not(a))) )\n",
    "\n",
    "def w(a, b):\n",
    "    return( a or b )\n",
    "\n",
    "def e(a, b):\n",
    "    return( (not(a) or b) and (not(b) or a) )\n",
    "\n",
    "def r(a, b):\n",
    "    return( (a or (b and not(a))) or (a or not(b or a)) )\n",
    "    \n",
    "pyd.create_terms('X, Y, q, w, e, r , T')\n",
    "    \n",
    "\n",
    "print('(A∨¬A)↔️B')\n",
    "print( (X.in_(values)) & (Y.in_(values) & (T==z(X,Y))))\n",
    "print()\n",
    "\n",
    "print('A∨B')\n",
    "print( (X.in_(values)) & (Y.in_(values) & (T==w(X,Y))))\n",
    "print()\n",
    "\n",
    "print('(A→B)∧(B→A)')\n",
    "print( (X.in_(values)) & (Y.in_(values) & (T==e(X,Y))))\n",
    "print()\n",
    "\n",
    "print('(A∨(B∧¬A))∨(A∨¬(B∨A))')\n",
    "print( (X.in_(values)) & (Y.in_(values) & (==r(X,Y))))\n",
    "print()"
   ]
  }
 ],
 "metadata": {
  "kernelspec": {
   "display_name": "Python 3",
   "language": "python",
   "name": "python3"
  },
  "language_info": {
   "codemirror_mode": {
    "name": "ipython",
    "version": 3
   },
   "file_extension": ".py",
   "mimetype": "text/x-python",
   "name": "python",
   "nbconvert_exporter": "python",
   "pygments_lexer": "ipython3",
   "version": "3.6.2"
  }
 },
 "nbformat": 4,
 "nbformat_minor": 2
}
